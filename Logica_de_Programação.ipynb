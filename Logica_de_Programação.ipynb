{
  "nbformat": 4,
  "nbformat_minor": 0,
  "metadata": {
    "colab": {
      "provenance": [],
      "toc_visible": true,
      "include_colab_link": true
    },
    "kernelspec": {
      "display_name": "Python 3",
      "name": "python3"
    }
  },
  "cells": [
    {
      "cell_type": "markdown",
      "metadata": {
        "id": "view-in-github",
        "colab_type": "text"
      },
      "source": [
        "<a href=\"https://colab.research.google.com/github/josenetomg/Projeto/blob/main/Logica_de_Programa%C3%A7%C3%A3o.ipynb\" target=\"_parent\"><img src=\"https://colab.research.google.com/assets/colab-badge.svg\" alt=\"Open In Colab\"/></a>"
      ]
    },
    {
      "cell_type": "markdown",
      "metadata": {
        "id": "tknc2MUA3fJ1"
      },
      "source": [
        "# Fundamentos de Lógica de Programação com Python\n"
      ]
    },
    {
      "cell_type": "markdown",
      "metadata": {
        "id": "DJZHtO0O3tu3"
      },
      "source": [
        "## Tipo Inteiro"
      ]
    },
    {
      "cell_type": "code",
      "metadata": {
        "colab": {
          "base_uri": "https://localhost:8080/"
        },
        "id": "BuSz-2g23zfb",
        "outputId": "f9417a5c-be0d-4eca-dfa2-185a937386ab"
      },
      "source": [
        "type(1)"
      ],
      "execution_count": 1,
      "outputs": [
        {
          "output_type": "execute_result",
          "data": {
            "text/plain": [
              "int"
            ]
          },
          "metadata": {},
          "execution_count": 1
        }
      ]
    },
    {
      "cell_type": "code",
      "metadata": {
        "id": "T72XZuETekMf"
      },
      "source": [
        "a=input('')\n",
        "a"
      ],
      "execution_count": null,
      "outputs": []
    },
    {
      "cell_type": "code",
      "metadata": {
        "id": "TAUt8Ug34flb"
      },
      "source": [
        "1 + 2"
      ],
      "execution_count": null,
      "outputs": []
    },
    {
      "cell_type": "code",
      "metadata": {
        "id": "6Orb3yNF4mdh"
      },
      "source": [
        "5 - 3"
      ],
      "execution_count": null,
      "outputs": []
    },
    {
      "cell_type": "code",
      "metadata": {
        "id": "m8NnA6L34o-L"
      },
      "source": [
        "6 * 7"
      ],
      "execution_count": null,
      "outputs": []
    },
    {
      "cell_type": "code",
      "metadata": {
        "id": "Ksm24WQj4s1m"
      },
      "source": [
        "43 % 6"
      ],
      "execution_count": null,
      "outputs": []
    },
    {
      "cell_type": "code",
      "metadata": {
        "colab": {
          "base_uri": "https://localhost:8080/"
        },
        "id": "rFP8l5WS4zo7",
        "outputId": "c24cd24b-8f87-4825-b8a1-b0a27bcf15dc"
      },
      "source": [
        "43 // 6"
      ],
      "execution_count": null,
      "outputs": [
        {
          "output_type": "execute_result",
          "data": {
            "text/plain": [
              "7"
            ]
          },
          "metadata": {
            "tags": []
          },
          "execution_count": 150
        }
      ]
    },
    {
      "cell_type": "code",
      "metadata": {
        "colab": {
          "base_uri": "https://localhost:8080/"
        },
        "id": "Xry8aVw85GoJ",
        "outputId": "790c6296-5b40-4941-e096-b2b947d0dba5"
      },
      "source": [
        "43 / 6"
      ],
      "execution_count": null,
      "outputs": [
        {
          "output_type": "execute_result",
          "data": {
            "text/plain": [
              "7.166666666666667"
            ]
          },
          "metadata": {
            "tags": []
          },
          "execution_count": 151
        }
      ]
    },
    {
      "cell_type": "code",
      "metadata": {
        "colab": {
          "base_uri": "https://localhost:8080/"
        },
        "id": "ynZhHqGi5P84",
        "outputId": "5a2067fa-058f-4d1e-c070-ffbbfe1e3f99"
      },
      "source": [
        "2 ** 63 -1"
      ],
      "execution_count": null,
      "outputs": [
        {
          "output_type": "execute_result",
          "data": {
            "text/plain": [
              "9223372036854775807"
            ]
          },
          "metadata": {
            "tags": []
          },
          "execution_count": 152
        }
      ]
    },
    {
      "cell_type": "code",
      "metadata": {
        "colab": {
          "base_uri": "https://localhost:8080/"
        },
        "id": "3e5fwL6U5g6d",
        "outputId": "36c5a06f-e26c-4956-b29f-d4a2025cdb83"
      },
      "source": [
        "9_223_372_036_854_775_807"
      ],
      "execution_count": null,
      "outputs": [
        {
          "output_type": "execute_result",
          "data": {
            "text/plain": [
              "9223372036854775807"
            ]
          },
          "metadata": {
            "tags": []
          },
          "execution_count": 153
        }
      ]
    },
    {
      "cell_type": "code",
      "metadata": {
        "colab": {
          "base_uri": "https://localhost:8080/"
        },
        "id": "BzlKvrPQ5pjM",
        "outputId": "27c1dd88-1777-441c-fa67-dc4acb670bd3"
      },
      "source": [
        "2 ** 1000"
      ],
      "execution_count": null,
      "outputs": [
        {
          "output_type": "execute_result",
          "data": {
            "text/plain": [
              "10715086071862673209484250490600018105614048117055336074437503883703510511249361224931983788156958581275946729175531468251871452856923140435984577574698574803934567774824230985421074605062371141877954182153046474983581941267398767559165543946077062914571196477686542167660429831652624386837205668069376"
            ]
          },
          "metadata": {
            "tags": []
          },
          "execution_count": 154
        }
      ]
    },
    {
      "cell_type": "markdown",
      "metadata": {
        "id": "18Bv08PV52uG"
      },
      "source": [
        "## Tipo Ponto Flutuante"
      ]
    },
    {
      "cell_type": "code",
      "metadata": {
        "id": "g5DA90pi57mt"
      },
      "source": [
        "type(7.166666666666667)"
      ],
      "execution_count": null,
      "outputs": []
    },
    {
      "cell_type": "code",
      "metadata": {
        "id": "kzj9rIdt6N06"
      },
      "source": [
        "7.5 + 5, 5.5 - 7, 7.2 * 2, 2.1 ** 2, 7.3 / 2"
      ],
      "execution_count": null,
      "outputs": []
    },
    {
      "cell_type": "markdown",
      "metadata": {
        "id": "6EKG3zlM7KeQ"
      },
      "source": [
        "## Variáveis"
      ]
    },
    {
      "cell_type": "code",
      "metadata": {
        "colab": {
          "base_uri": "https://localhost:8080/"
        },
        "id": "F1yXQlxP7Mlx",
        "outputId": "c11a16bf-b38c-4eec-a203-1462d723f55f"
      },
      "source": [
        "pi = 3.1415\n",
        "raio = 2\n",
        "pi * (raio ** 2)   "
      ],
      "execution_count": null,
      "outputs": [
        {
          "output_type": "execute_result",
          "data": {
            "text/plain": [
              "12.566"
            ]
          },
          "metadata": {
            "tags": []
          },
          "execution_count": 157
        }
      ]
    },
    {
      "cell_type": "code",
      "metadata": {
        "colab": {
          "base_uri": "https://localhost:8080/"
        },
        "id": "1NnMRTGa7rOY",
        "outputId": "05c117b4-6f53-483a-9586-c6cf8875f3f4"
      },
      "source": [
        "raio = 1\n",
        "pi * (raio ** 2) "
      ],
      "execution_count": null,
      "outputs": [
        {
          "output_type": "execute_result",
          "data": {
            "text/plain": [
              "3.1415"
            ]
          },
          "metadata": {
            "tags": []
          },
          "execution_count": 158
        }
      ]
    },
    {
      "cell_type": "code",
      "metadata": {
        "colab": {
          "base_uri": "https://localhost:8080/",
          "height": 172
        },
        "id": "L4MJoxd674_s",
        "outputId": "621c1296-70c4-4e53-f0a4-3d7a4786cdf7"
      },
      "source": [
        "nao_existe"
      ],
      "execution_count": null,
      "outputs": [
        {
          "output_type": "error",
          "ename": "NameError",
          "evalue": "ignored",
          "traceback": [
            "\u001b[0;31m---------------------------------------------------------------------------\u001b[0m",
            "\u001b[0;31mNameError\u001b[0m                                 Traceback (most recent call last)",
            "\u001b[0;32m<ipython-input-159-c00b538a1e2f>\u001b[0m in \u001b[0;36m<module>\u001b[0;34m()\u001b[0m\n\u001b[0;32m----> 1\u001b[0;31m \u001b[0mnao_existe\u001b[0m\u001b[0;34m\u001b[0m\u001b[0;34m\u001b[0m\u001b[0m\n\u001b[0m",
            "\u001b[0;31mNameError\u001b[0m: name 'nao_existe' is not defined"
          ]
        }
      ]
    },
    {
      "cell_type": "markdown",
      "metadata": {
        "id": "ZUzuj-gJ8Ela"
      },
      "source": [
        "## Cadeia de Caracteres (String)"
      ]
    },
    {
      "cell_type": "code",
      "metadata": {
        "id": "2PRap5B28K8w"
      },
      "source": [
        "print('Olá Mundo')"
      ],
      "execution_count": null,
      "outputs": []
    },
    {
      "cell_type": "code",
      "metadata": {
        "id": "TltogoOT8RKn"
      },
      "source": [
        "type('Renzo'), type(\"Renzo\"), type(\"\"\"Renzo\"\"\"), type('''Renzo''')"
      ],
      "execution_count": null,
      "outputs": []
    },
    {
      "cell_type": "code",
      "metadata": {
        "id": "tSfGLvHV8itq"
      },
      "source": [
        "nome = \"\"\"Renzo's \"name\" \"\"\"\n",
        "nome"
      ],
      "execution_count": null,
      "outputs": []
    },
    {
      "cell_type": "code",
      "metadata": {
        "id": "7buy9hN39E-C"
      },
      "source": [
        "nome = '''Renzo \n",
        " Nuccitelli'''\n",
        "print(nome)"
      ],
      "execution_count": null,
      "outputs": []
    },
    {
      "cell_type": "markdown",
      "metadata": {
        "id": "pUVLFM2J9mwy"
      },
      "source": [
        "## Tipos Booleanos"
      ]
    },
    {
      "cell_type": "code",
      "metadata": {
        "id": "8klDDKsI9pKo"
      },
      "source": [
        "True, False, type(True), type(False)"
      ],
      "execution_count": null,
      "outputs": []
    },
    {
      "cell_type": "code",
      "metadata": {
        "id": "UKw0Wzwu-HDF"
      },
      "source": [
        "not True, not False"
      ],
      "execution_count": null,
      "outputs": []
    },
    {
      "cell_type": "code",
      "metadata": {
        "id": "vfjIoiT6-P3n"
      },
      "source": [
        "True and True, True and False, False and True, False and False"
      ],
      "execution_count": null,
      "outputs": []
    },
    {
      "cell_type": "code",
      "metadata": {
        "id": "MAONzgvY-jp0"
      },
      "source": [
        "True or True, True or False, False or True, False or False"
      ],
      "execution_count": null,
      "outputs": []
    },
    {
      "cell_type": "code",
      "metadata": {
        "id": "--ic5syg-z6m"
      },
      "source": [
        "5 < 6, 5 >= 6, 5 == 4, 5 == 5, 5 != 4,  5 != 5, 'Renzo' == 'Renzo'"
      ],
      "execution_count": null,
      "outputs": []
    },
    {
      "cell_type": "code",
      "metadata": {
        "id": "juqCeqyy_NH2"
      },
      "source": [
        "renzo = 'Renzo'\n",
        "renzo == 'renzo'"
      ],
      "execution_count": null,
      "outputs": []
    },
    {
      "cell_type": "markdown",
      "metadata": {
        "id": "s3vIzGCG_eyG"
      },
      "source": [
        "## Desvios Lógicos"
      ]
    },
    {
      "cell_type": "code",
      "metadata": {
        "id": "sP8bIXUN_g4n"
      },
      "source": [
        "idade = 65\n",
        "\n",
        "if idade < 18:\n",
        "  print(f'menor de idade: {idade}')\n",
        "  print('Acabou o if')\n",
        "elif idade >= 65:\n",
        "  print(f'pessoa idosa: {idade}')\n",
        "else:\n",
        "  print(f'maior de idade: {idade}')"
      ],
      "execution_count": null,
      "outputs": []
    },
    {
      "cell_type": "markdown",
      "metadata": {
        "id": "_SNwLmYjBza1"
      },
      "source": [
        "## Funções\n"
      ]
    },
    {
      "cell_type": "code",
      "metadata": {
        "id": "qTCx_ksDB4bD"
      },
      "source": [
        "def classificar(idade, nome):\n",
        "  if idade < 18:\n",
        "    return f'{nome} é menor de idade: {idade}'\n",
        "  elif idade >= 65:\n",
        "    return f'{nome} é um isodo(a): {idade}'\n",
        "  else:\n",
        "    return f'{nome} é maior de idade: {idade}'"
      ],
      "execution_count": null,
      "outputs": []
    },
    {
      "cell_type": "code",
      "metadata": {
        "id": "5QzgDd6HCmtx"
      },
      "source": [
        "classificar(38, 'Renzo'), classificar(150, 'Matusalem')"
      ],
      "execution_count": null,
      "outputs": []
    },
    {
      "cell_type": "markdown",
      "metadata": {
        "id": "QLm1hgXMDRgp"
      },
      "source": [
        "## Sequencias\n"
      ]
    },
    {
      "cell_type": "code",
      "metadata": {
        "id": "LvK9gGTYD-MM"
      },
      "source": [
        "lista = [1, 4.5, True, []]\n",
        "type(lista), lista"
      ],
      "execution_count": null,
      "outputs": []
    },
    {
      "cell_type": "markdown",
      "metadata": {
        "id": "fbGC3WpxEYH6"
      },
      "source": [
        "### Acesso a elementos"
      ]
    },
    {
      "cell_type": "code",
      "metadata": {
        "id": "is8nZMjBEa4D"
      },
      "source": [
        "lista[0], lista[1]"
      ],
      "execution_count": null,
      "outputs": []
    },
    {
      "cell_type": "code",
      "metadata": {
        "id": "b_LaLC3iE3Ia"
      },
      "source": [
        "len(lista)"
      ],
      "execution_count": null,
      "outputs": []
    },
    {
      "cell_type": "code",
      "metadata": {
        "id": "0vqCMkwPFDw7"
      },
      "source": [
        "lista[-1], lista[-2]"
      ],
      "execution_count": null,
      "outputs": []
    },
    {
      "cell_type": "markdown",
      "metadata": {
        "id": "CU7PoIz3FeER"
      },
      "source": [
        "### Fatiamento"
      ]
    },
    {
      "cell_type": "code",
      "metadata": {
        "id": "oDPc95AxFf5T"
      },
      "source": [
        "lista"
      ],
      "execution_count": null,
      "outputs": []
    },
    {
      "cell_type": "code",
      "metadata": {
        "id": "x4HNHkjNFi64"
      },
      "source": [
        "lista[1:3], lista[0:3], lista[:3], lista[2: len(lista)], lista[2: ]"
      ],
      "execution_count": null,
      "outputs": []
    },
    {
      "cell_type": "code",
      "metadata": {
        "id": "AkijmSnSGfxr"
      },
      "source": [
        "lista[:]"
      ],
      "execution_count": null,
      "outputs": []
    },
    {
      "cell_type": "code",
      "metadata": {
        "id": "EzvBZ87oGmBU"
      },
      "source": [
        "numeros = list(range(1, 11))\n",
        "numeros, numeros[1: 7: 2]"
      ],
      "execution_count": null,
      "outputs": []
    },
    {
      "cell_type": "code",
      "metadata": {
        "id": "E38KqGPxHL9d"
      },
      "source": [
        "list(range(1, 32, 2))"
      ],
      "execution_count": null,
      "outputs": []
    },
    {
      "cell_type": "code",
      "metadata": {
        "id": "M-_F3xnhHWF4"
      },
      "source": [
        "renzo= 'Renzo Nuccitelli'\n",
        "renzo[0], renzo[:6]"
      ],
      "execution_count": null,
      "outputs": []
    },
    {
      "cell_type": "markdown",
      "metadata": {
        "id": "TWCvtZRWHsIF"
      },
      "source": [
        "## Adição e Remoção"
      ]
    },
    {
      "cell_type": "code",
      "metadata": {
        "id": "kaiPg2cCHu-F"
      },
      "source": [
        "dir(numeros)"
      ],
      "execution_count": null,
      "outputs": []
    },
    {
      "cell_type": "code",
      "metadata": {
        "id": "_N-Cv44vH8CJ"
      },
      "source": [
        "help(numeros.pop)"
      ],
      "execution_count": null,
      "outputs": []
    },
    {
      "cell_type": "code",
      "metadata": {
        "id": "0RHRKPWYILst"
      },
      "source": [
        "numeros\n"
      ],
      "execution_count": null,
      "outputs": []
    },
    {
      "cell_type": "code",
      "metadata": {
        "id": "vXv-3I4xIRs-"
      },
      "source": [
        "numeros.pop()"
      ],
      "execution_count": null,
      "outputs": []
    },
    {
      "cell_type": "code",
      "metadata": {
        "id": "5osIAIM2IVQ6"
      },
      "source": [
        "numeros"
      ],
      "execution_count": null,
      "outputs": []
    },
    {
      "cell_type": "code",
      "metadata": {
        "id": "A25-3miNIY-n"
      },
      "source": [
        "numeros.append(10)"
      ],
      "execution_count": null,
      "outputs": []
    },
    {
      "cell_type": "code",
      "metadata": {
        "id": "qDGn5GQ0IcQ4"
      },
      "source": [
        "numeros"
      ],
      "execution_count": null,
      "outputs": []
    },
    {
      "cell_type": "code",
      "metadata": {
        "id": "5rcrX8mNIiyS"
      },
      "source": [
        "numeros.extend([11, 12])"
      ],
      "execution_count": null,
      "outputs": []
    },
    {
      "cell_type": "code",
      "metadata": {
        "id": "mOBHXNSYInlS"
      },
      "source": [
        "numeros"
      ],
      "execution_count": null,
      "outputs": []
    },
    {
      "cell_type": "code",
      "metadata": {
        "id": "y_dq6AswIrmc"
      },
      "source": [
        "[1, 3] + [2, 4]"
      ],
      "execution_count": null,
      "outputs": []
    },
    {
      "cell_type": "code",
      "metadata": {
        "id": "x8KV5JkDI0Yn"
      },
      "source": [
        "[1, 3] * 3"
      ],
      "execution_count": null,
      "outputs": []
    },
    {
      "cell_type": "code",
      "metadata": {
        "id": "CMifdNDPI7iw"
      },
      "source": [
        "'Renzo ' + 'Nuccitelli'"
      ],
      "execution_count": null,
      "outputs": []
    },
    {
      "cell_type": "code",
      "metadata": {
        "id": "y1CXd9NzJAOR"
      },
      "source": [
        "'bla ' * 3"
      ],
      "execution_count": null,
      "outputs": []
    },
    {
      "cell_type": "markdown",
      "metadata": {
        "id": "eVMjcW2vJMdc"
      },
      "source": [
        "## Laços de Repetição"
      ]
    },
    {
      "cell_type": "code",
      "metadata": {
        "id": "wSa2k9HxJPqc"
      },
      "source": [
        "idades = [17, 38, 70, 80]\n",
        "classificar(idades[0], 'Renzo'), classificar(idades[1], 'Renzo'), classificar(idades[2], 'Renzo')"
      ],
      "execution_count": null,
      "outputs": []
    },
    {
      "cell_type": "code",
      "metadata": {
        "id": "mtXxg-mvJsuO"
      },
      "source": [
        "for idade in idades:\n",
        "  print(classificar(idade, 'Pessoa'))"
      ],
      "execution_count": null,
      "outputs": []
    },
    {
      "cell_type": "markdown",
      "metadata": {
        "id": "8pz87AcqKaZq"
      },
      "source": [
        "## Dicionário"
      ]
    },
    {
      "cell_type": "code",
      "metadata": {
        "id": "Mh5WiJHIKdaX"
      },
      "source": [
        "linguas = {'pt': 'Portugues', 'en': 'Inglês'}\n",
        "linguas['pt'], linguas['en']"
      ],
      "execution_count": null,
      "outputs": []
    },
    {
      "cell_type": "code",
      "metadata": {
        "id": "-I9dyrx_K50K"
      },
      "source": [
        "linguas['es'] = 'Espanhol'\n",
        "linguas"
      ],
      "execution_count": null,
      "outputs": []
    },
    {
      "cell_type": "code",
      "metadata": {
        "id": "9uenZo3RLOfr"
      },
      "source": [
        "for chave in linguas.keys():\n",
        "  print(chave)"
      ],
      "execution_count": null,
      "outputs": []
    },
    {
      "cell_type": "code",
      "metadata": {
        "id": "ZTwtcp5WLY3D"
      },
      "source": [
        "for valor in linguas.values():\n",
        "  print(valor)"
      ],
      "execution_count": null,
      "outputs": []
    },
    {
      "cell_type": "code",
      "metadata": {
        "id": "KVfagDk9LhPL"
      },
      "source": [
        "for chave, valor in linguas.items():\n",
        "  print(chave, valor)"
      ],
      "execution_count": null,
      "outputs": []
    },
    {
      "cell_type": "code",
      "metadata": {
        "colab": {
          "base_uri": "https://localhost:8080/"
        },
        "id": "wkk4F6VM16He",
        "outputId": "b54b0716-8032-4dff-ec45-d30b2a9f3595"
      },
      "source": [
        "%ls"
      ],
      "execution_count": null,
      "outputs": [
        {
          "output_type": "stream",
          "text": [
            "\u001b[0m\u001b[01;34msample_data\u001b[0m/\n"
          ],
          "name": "stdout"
        }
      ]
    },
    {
      "cell_type": "code",
      "metadata": {
        "colab": {
          "base_uri": "https://localhost:8080/"
        },
        "id": "bnK6odhv1RVk",
        "outputId": "7a9ccee4-c713-4cb1-afe4-1c5e9e67c973"
      },
      "source": [
        "with open('sample_data/ips.txt', 'r') as ips:\n",
        "  for ip in ips:\n",
        "    print(ip.strip())"
      ],
      "execution_count": null,
      "outputs": [
        {
          "output_type": "stream",
          "text": [
            "200.135.80.9\n",
            "192.168.1.1\n",
            "8.35.67.74\n",
            "257.32.4.5\n",
            "85.345.1.2\n",
            "1.2.3.4\n",
            "9.8.234.5\n",
            "192.168.0.256\n"
          ],
          "name": "stdout"
        }
      ]
    },
    {
      "cell_type": "code",
      "metadata": {
        "id": "v4qw-GNU3-Jn"
      },
      "source": [
        "with open('sample_data/saida.txt', 'w') as out:\n",
        "  out.write('x')"
      ],
      "execution_count": null,
      "outputs": []
    }
  ]
}